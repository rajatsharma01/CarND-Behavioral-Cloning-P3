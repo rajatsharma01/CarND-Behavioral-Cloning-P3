{
 "cells": [
  {
   "cell_type": "markdown",
   "metadata": {},
   "source": [
    "Read input data files"
   ]
  },
  {
   "cell_type": "code",
   "execution_count": 2,
   "metadata": {},
   "outputs": [],
   "source": [
    "# Read input samples\n",
    "import numpy as np\n",
    "import pandas as pd\n",
    "\n",
    "#DIR_PREFIX=\"../TrainingData/PatrickKern/data/\"\n",
    "#training_dirs = [\"track1_central\", \"track1_recovery\", \"track1_recovery_reverse\", \"track1_reverse\"]\n",
    "DIR_PREFIX=\"../TrainingData/Track1/\"\n",
    "training_dirs = [\"Center\", \"Recovery\", \"Reverse\"]\n",
    "\n",
    "csv_list = []\n",
    "for one_dir in training_dirs:\n",
    "    one_sample = pd.read_csv(DIR_PREFIX + one_dir + \"/driving_log.csv\", header=None, delimiter=',')\n",
    "    csv_list.append(one_sample)\n",
    "samples = pd.concat(csv_list)\n",
    "samples.columns = ['Center Image', 'Left Image', 'Right Image', 'Steering Angle', 'Throttle', 'Break', 'Speed']"
   ]
  },
  {
   "cell_type": "code",
   "execution_count": 3,
   "metadata": {},
   "outputs": [
    {
     "data": {
      "text/html": [
       "<div>\n",
       "<style scoped>\n",
       "    .dataframe tbody tr th:only-of-type {\n",
       "        vertical-align: middle;\n",
       "    }\n",
       "\n",
       "    .dataframe tbody tr th {\n",
       "        vertical-align: top;\n",
       "    }\n",
       "\n",
       "    .dataframe thead th {\n",
       "        text-align: right;\n",
       "    }\n",
       "</style>\n",
       "<table border=\"1\" class=\"dataframe\">\n",
       "  <thead>\n",
       "    <tr style=\"text-align: right;\">\n",
       "      <th></th>\n",
       "      <th>Center Image</th>\n",
       "      <th>Left Image</th>\n",
       "      <th>Right Image</th>\n",
       "      <th>Steering Angle</th>\n",
       "      <th>Throttle</th>\n",
       "      <th>Break</th>\n",
       "      <th>Speed</th>\n",
       "    </tr>\n",
       "  </thead>\n",
       "  <tbody>\n",
       "    <tr>\n",
       "      <th>0</th>\n",
       "      <td>/home/rajat/work/udacity/sdc/Project3/Training...</td>\n",
       "      <td>/home/rajat/work/udacity/sdc/Project3/Trainin...</td>\n",
       "      <td>/home/rajat/work/udacity/sdc/Project3/Trainin...</td>\n",
       "      <td>0.0</td>\n",
       "      <td>0.0</td>\n",
       "      <td>0.0</td>\n",
       "      <td>0.000080</td>\n",
       "    </tr>\n",
       "    <tr>\n",
       "      <th>1</th>\n",
       "      <td>/home/rajat/work/udacity/sdc/Project3/Training...</td>\n",
       "      <td>/home/rajat/work/udacity/sdc/Project3/Trainin...</td>\n",
       "      <td>/home/rajat/work/udacity/sdc/Project3/Trainin...</td>\n",
       "      <td>0.0</td>\n",
       "      <td>0.0</td>\n",
       "      <td>0.0</td>\n",
       "      <td>0.000079</td>\n",
       "    </tr>\n",
       "    <tr>\n",
       "      <th>2</th>\n",
       "      <td>/home/rajat/work/udacity/sdc/Project3/Training...</td>\n",
       "      <td>/home/rajat/work/udacity/sdc/Project3/Trainin...</td>\n",
       "      <td>/home/rajat/work/udacity/sdc/Project3/Trainin...</td>\n",
       "      <td>0.0</td>\n",
       "      <td>0.0</td>\n",
       "      <td>0.0</td>\n",
       "      <td>0.000079</td>\n",
       "    </tr>\n",
       "    <tr>\n",
       "      <th>3</th>\n",
       "      <td>/home/rajat/work/udacity/sdc/Project3/Training...</td>\n",
       "      <td>/home/rajat/work/udacity/sdc/Project3/Trainin...</td>\n",
       "      <td>/home/rajat/work/udacity/sdc/Project3/Trainin...</td>\n",
       "      <td>0.0</td>\n",
       "      <td>0.0</td>\n",
       "      <td>0.0</td>\n",
       "      <td>0.000078</td>\n",
       "    </tr>\n",
       "    <tr>\n",
       "      <th>4</th>\n",
       "      <td>/home/rajat/work/udacity/sdc/Project3/Training...</td>\n",
       "      <td>/home/rajat/work/udacity/sdc/Project3/Trainin...</td>\n",
       "      <td>/home/rajat/work/udacity/sdc/Project3/Trainin...</td>\n",
       "      <td>0.0</td>\n",
       "      <td>0.0</td>\n",
       "      <td>0.0</td>\n",
       "      <td>0.000078</td>\n",
       "    </tr>\n",
       "  </tbody>\n",
       "</table>\n",
       "</div>"
      ],
      "text/plain": [
       "                                        Center Image  \\\n",
       "0  /home/rajat/work/udacity/sdc/Project3/Training...   \n",
       "1  /home/rajat/work/udacity/sdc/Project3/Training...   \n",
       "2  /home/rajat/work/udacity/sdc/Project3/Training...   \n",
       "3  /home/rajat/work/udacity/sdc/Project3/Training...   \n",
       "4  /home/rajat/work/udacity/sdc/Project3/Training...   \n",
       "\n",
       "                                          Left Image  \\\n",
       "0   /home/rajat/work/udacity/sdc/Project3/Trainin...   \n",
       "1   /home/rajat/work/udacity/sdc/Project3/Trainin...   \n",
       "2   /home/rajat/work/udacity/sdc/Project3/Trainin...   \n",
       "3   /home/rajat/work/udacity/sdc/Project3/Trainin...   \n",
       "4   /home/rajat/work/udacity/sdc/Project3/Trainin...   \n",
       "\n",
       "                                         Right Image  Steering Angle  \\\n",
       "0   /home/rajat/work/udacity/sdc/Project3/Trainin...             0.0   \n",
       "1   /home/rajat/work/udacity/sdc/Project3/Trainin...             0.0   \n",
       "2   /home/rajat/work/udacity/sdc/Project3/Trainin...             0.0   \n",
       "3   /home/rajat/work/udacity/sdc/Project3/Trainin...             0.0   \n",
       "4   /home/rajat/work/udacity/sdc/Project3/Trainin...             0.0   \n",
       "\n",
       "   Throttle  Break     Speed  \n",
       "0       0.0    0.0  0.000080  \n",
       "1       0.0    0.0  0.000079  \n",
       "2       0.0    0.0  0.000079  \n",
       "3       0.0    0.0  0.000078  \n",
       "4       0.0    0.0  0.000078  "
      ]
     },
     "execution_count": 3,
     "metadata": {},
     "output_type": "execute_result"
    }
   ],
   "source": [
    "samples.head()"
   ]
  },
  {
   "cell_type": "code",
   "execution_count": 4,
   "metadata": {},
   "outputs": [
    {
     "name": "stdout",
     "output_type": "stream",
     "text": [
      "52010\n",
      "13006\n"
     ]
    }
   ],
   "source": [
    "# Split samples into train and test\n",
    "from sklearn.model_selection import train_test_split\n",
    "train_samples, validation_samples = train_test_split(samples, test_size=0.2, shuffle=True)\n",
    "print(train_samples.size)\n",
    "print(validation_samples.size)"
   ]
  },
  {
   "cell_type": "code",
   "execution_count": 5,
   "metadata": {},
   "outputs": [],
   "source": [
    "# Constants\n",
    "BATCH_SIZE=32\n",
    "\n",
    "# Input image dimensions\n",
    "height, width, channel = (160, 320, 3)"
   ]
  },
  {
   "cell_type": "code",
   "execution_count": 6,
   "metadata": {},
   "outputs": [],
   "source": [
    "import sklearn\n",
    "from PIL import Image\n",
    "from sklearn.utils import shuffle\n",
    "\n",
    "# Generator to get random batch of samples\n",
    "def generator(samples, batch_size=BATCH_SIZE):\n",
    "    n_samples = samples.shape[0]\n",
    "    while True:\n",
    "        shuffle(samples)\n",
    "        for offset in range(0, n_samples, batch_size):\n",
    "            batch_samples = samples.iloc[offset:offset+batch_size]\n",
    "            assert(batch_samples.shape[0] > 0)\n",
    "            images = []\n",
    "            angles = []\n",
    "            for idx, one_sample in batch_samples.iterrows():\n",
    "                angle = float(one_sample['Steering Angle'])\n",
    "                # Skip images mostly steering straight with 70% probability\n",
    "                #if (abs(angle) < 0.3) and (np.random.randint(0, 10) < 7):\n",
    "                #    continue\n",
    "\n",
    "                for camera_loc,correction in zip(['Center Image', 'Left Image', 'Right Image'],\n",
    "                                                 [0.0, 0.2, -0.2]):\n",
    "                    dir_splits = one_sample[camera_loc].split('/')\n",
    "                    img_file = DIR_PREFIX + dir_splits[-3] + '/IMG/' + dir_splits[-1]\n",
    "                    cam_img = np.asarray(Image.open(img_file))\n",
    "                    assert(cam_img.shape == (height, width, channel))\n",
    "                    corrected_angle = angle + correction\n",
    "                    images.append(cam_img)\n",
    "                    angles.append(corrected_angle)\n",
    "                    # Flip image and append\n",
    "                    flipped_img = np.fliplr(cam_img)\n",
    "                    flipped_angle = -corrected_angle;\n",
    "                    images.append(flipped_img)\n",
    "                    angles.append(flipped_angle)\n",
    "\n",
    "            #if len(images) == 0:\n",
    "            #    continue\n",
    "\n",
    "            X_train = np.array(images)\n",
    "            y_train = np.array(angles)\n",
    "            yield shuffle(X_train, y_train)\n",
    "\n",
    "train_generator = generator(train_samples)\n",
    "validation_generator = generator(validation_samples)"
   ]
  },
  {
   "cell_type": "code",
   "execution_count": 7,
   "metadata": {},
   "outputs": [
    {
     "name": "stderr",
     "output_type": "stream",
     "text": [
      "Using TensorFlow backend.\n"
     ]
    },
    {
     "name": "stdout",
     "output_type": "stream",
     "text": [
      "_________________________________________________________________\n",
      "Layer (type)                 Output Shape              Param #   \n",
      "=================================================================\n",
      "lambda_1 (Lambda)            (None, 160, 320, 3)       0         \n",
      "_________________________________________________________________\n",
      "cropping2d_1 (Cropping2D)    (None, 65, 320, 3)        0         \n",
      "_________________________________________________________________\n",
      "lambda_2 (Lambda)            (None, 64, 64, 3)         0         \n",
      "_________________________________________________________________\n",
      "conv2d_1 (Conv2D)            (None, 30, 30, 24)        1824      \n",
      "_________________________________________________________________\n",
      "conv2d_2 (Conv2D)            (None, 13, 13, 36)        21636     \n",
      "_________________________________________________________________\n",
      "conv2d_3 (Conv2D)            (None, 5, 5, 48)          43248     \n",
      "_________________________________________________________________\n",
      "conv2d_4 (Conv2D)            (None, 3, 3, 64)          27712     \n",
      "_________________________________________________________________\n",
      "conv2d_5 (Conv2D)            (None, 1, 1, 64)          36928     \n",
      "_________________________________________________________________\n",
      "flatten_1 (Flatten)          (None, 64)                0         \n",
      "_________________________________________________________________\n",
      "dense_1 (Dense)              (None, 100)               6500      \n",
      "_________________________________________________________________\n",
      "dropout_1 (Dropout)          (None, 100)               0         \n",
      "_________________________________________________________________\n",
      "dense_2 (Dense)              (None, 50)                5050      \n",
      "_________________________________________________________________\n",
      "dropout_2 (Dropout)          (None, 50)                0         \n",
      "_________________________________________________________________\n",
      "dense_3 (Dense)              (None, 10)                510       \n",
      "_________________________________________________________________\n",
      "dropout_3 (Dropout)          (None, 10)                0         \n",
      "_________________________________________________________________\n",
      "dense_4 (Dense)              (None, 1)                 11        \n",
      "=================================================================\n",
      "Total params: 143,419\n",
      "Trainable params: 143,419\n",
      "Non-trainable params: 0\n",
      "_________________________________________________________________\n"
     ]
    }
   ],
   "source": [
    "# Model Definition\n",
    "from keras.models import Sequential\n",
    "from keras.layers import Cropping2D\n",
    "from keras.layers.core import Lambda, Dense, Flatten, Dropout\n",
    "from keras.layers.convolutional import Conv2D\n",
    "import keras.backend as K\n",
    "from keras.backend import tf as ktf\n",
    "\n",
    "sess = ktf.Session(config=ktf.ConfigProto(intra_op_parallelism_threads=8))\n",
    "K.set_session(sess)\n",
    "K.set_image_data_format('channels_last')\n",
    "\n",
    "def resize_image(image):\n",
    "    from keras.backend import tf as ktf\n",
    "    return ktf.image.resize_images(image, (64, 64))\n",
    "\n",
    "my_model = Sequential()\n",
    "my_model.add(Lambda(lambda x: (x/255.0) - 0.5, input_shape=(height, width, channel)))\n",
    "my_model.add(Cropping2D(cropping=((70, 25), (0, 0))))\n",
    "my_model.add(Lambda(resize_image, input_shape=(height, width, channel), output_shape=(64, 64, channel)))\n",
    "my_model.add(Conv2D(24, kernel_size=5, strides=2, activation='elu'))\n",
    "my_model.add(Conv2D(36, kernel_size=5, strides=2, activation='elu'))\n",
    "my_model.add(Conv2D(48, kernel_size=5, strides=2, activation='elu'))\n",
    "my_model.add(Conv2D(64, kernel_size=3, activation='elu'))\n",
    "my_model.add(Conv2D(64, kernel_size=3, activation='elu'))\n",
    "my_model.add(Flatten())\n",
    "my_model.add(Dense(100))\n",
    "my_model.add(Dropout(0.5))\n",
    "my_model.add(Dense(50))\n",
    "my_model.add(Dropout(0.5))\n",
    "my_model.add(Dense(10))\n",
    "my_model.add(Dropout(0.5))\n",
    "my_model.add(Dense(1))\n",
    "my_model.summary()"
   ]
  },
  {
   "cell_type": "code",
   "execution_count": 8,
   "metadata": {},
   "outputs": [
    {
     "name": "stdout",
     "output_type": "stream",
     "text": [
      "Epoch 1/3\n",
      "1626/1626 [==============================] - 1156s 711ms/step - loss: 0.1206 - val_loss: 0.0809\n",
      "Epoch 2/3\n",
      "1626/1626 [==============================] - 1245s 766ms/step - loss: 0.0918 - val_loss: 0.0797\n",
      "Epoch 3/3\n",
      "1626/1626 [==============================] - 1259s 774ms/step - loss: 0.0821 - val_loss: 0.0730\n"
     ]
    }
   ],
   "source": [
    "# Train the model now\n",
    "my_model.compile(loss='mse', optimizer='adam')\n",
    "train_steps = (train_samples.size + BATCH_SIZE - 1) // BATCH_SIZE\n",
    "validation_steps = (validation_samples.size + BATCH_SIZE - 1) // BATCH_SIZE\n",
    "#train_steps = 100\n",
    "#validation_steps = 10\n",
    "history_obj = my_model.fit_generator(generator=train_generator, steps_per_epoch=train_steps, epochs=10,\n",
    "                                     validation_data=validation_generator, validation_steps=validation_steps)"
   ]
  },
  {
   "cell_type": "code",
   "execution_count": 9,
   "metadata": {},
   "outputs": [
    {
     "name": "stdout",
     "output_type": "stream",
     "text": [
      "<built-in method keys of dict object at 0x7f607f8936c0>\n"
     ]
    },
    {
     "data": {
      "image/png": "[encoded data removed]",
      "text/plain": [
       "<matplotlib.figure.Figure at 0x7f607d273c18>"
      ]
     },
     "metadata": {},
     "output_type": "display_data"
    }
   ],
   "source": [
    "import matplotlib.pyplot as plt\n",
    "\n",
    "print(history_obj.history.keys)\n",
    "\n",
    "plt.plot(history_obj.history['loss'])\n",
    "plt.plot(history_obj.history['val_loss'])\n",
    "plt.title('Model MSE Loss')\n",
    "plt.ylabel('MSE Loss')\n",
    "plt.xlabel('Epoch')\n",
    "plt.legend(['Training', 'Validation'], loc='upper right')\n",
    "plt.show()"
   ]
  },
  {
   "cell_type": "code",
   "execution_count": 10,
   "metadata": {},
   "outputs": [],
   "source": [
    "my_model.save('my_model.h5')"
   ]
  },
  {
   "cell_type": "code",
   "execution_count": null,
   "metadata": {},
   "outputs": [],
   "source": [
    "# Try reloading the model and re-evaluate loss on validation data set\n",
    "del my_model\n",
    "from keras.models import load_model\n",
    "my_model = load_model('my_model.h5')\n",
    "my_model.evaluate_generator(generator=validation_generator, steps=validation_steps)"
   ]
  },
  {
   "cell_type": "code",
   "execution_count": null,
   "metadata": {},
   "outputs": [],
   "source": []
  }
 ],
 "metadata": {
  "kernelspec": {
   "display_name": "Python 3",
   "language": "python",
   "name": "python3"
  },
  "language_info": {
   "codemirror_mode": {
    "name": "ipython",
    "version": 3
   },
   "file_extension": ".py",
   "mimetype": "text/x-python",
   "name": "python",
   "nbconvert_exporter": "python",
   "pygments_lexer": "ipython3",
   "version": "3.6.3"
  }
 },
 "nbformat": 4,
 "nbformat_minor": 2
}
